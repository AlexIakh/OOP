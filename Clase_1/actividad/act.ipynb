{
 "cells": [
  {
   "cell_type": "markdown",
   "metadata": {},
   "source": [
    "### 1. Leer el archivo"
   ]
  },
  {
   "cell_type": "code",
   "execution_count": 1,
   "metadata": {},
   "outputs": [
    {
     "data": {
      "text/html": [
       "<div>\n",
       "<style scoped>\n",
       "    .dataframe tbody tr th:only-of-type {\n",
       "        vertical-align: middle;\n",
       "    }\n",
       "\n",
       "    .dataframe tbody tr th {\n",
       "        vertical-align: top;\n",
       "    }\n",
       "\n",
       "    .dataframe thead th {\n",
       "        text-align: right;\n",
       "    }\n",
       "</style>\n",
       "<table border=\"1\" class=\"dataframe\">\n",
       "  <thead>\n",
       "    <tr style=\"text-align: right;\">\n",
       "      <th></th>\n",
       "      <th>Enero</th>\n",
       "      <th>Febrero</th>\n",
       "      <th>Marzo</th>\n",
       "      <th>Abril</th>\n",
       "      <th>Mayo</th>\n",
       "      <th>Junio</th>\n",
       "      <th>Julio</th>\n",
       "      <th>Agosto</th>\n",
       "      <th>Septiembre</th>\n",
       "      <th>Octubre</th>\n",
       "      <th>Noviembre</th>\n",
       "      <th>Diciembre</th>\n",
       "    </tr>\n",
       "  </thead>\n",
       "  <tbody>\n",
       "    <tr>\n",
       "      <th>0</th>\n",
       "      <td>-760</td>\n",
       "      <td>343</td>\n",
       "      <td>265</td>\n",
       "      <td>-624</td>\n",
       "      <td>-390</td>\n",
       "      <td>-796</td>\n",
       "      <td>601</td>\n",
       "      <td>-780</td>\n",
       "      <td>-491</td>\n",
       "      <td>645</td>\n",
       "      <td>-248</td>\n",
       "      <td>714</td>\n",
       "    </tr>\n",
       "    <tr>\n",
       "      <th>1</th>\n",
       "      <td>223</td>\n",
       "      <td>491</td>\n",
       "      <td>-397</td>\n",
       "      <td>-123</td>\n",
       "      <td>6</td>\n",
       "      <td>-115</td>\n",
       "      <td>157</td>\n",
       "      <td>-741</td>\n",
       "      <td>-951</td>\n",
       "      <td>267</td>\n",
       "      <td>14</td>\n",
       "      <td>-596</td>\n",
       "    </tr>\n",
       "    <tr>\n",
       "      <th>2</th>\n",
       "      <td>-872</td>\n",
       "      <td>-913</td>\n",
       "      <td>558</td>\n",
       "      <td>278</td>\n",
       "      <td>544</td>\n",
       "      <td>-223</td>\n",
       "      <td>607</td>\n",
       "      <td>-113</td>\n",
       "      <td>348</td>\n",
       "      <td>576</td>\n",
       "      <td>-977</td>\n",
       "      <td>195</td>\n",
       "    </tr>\n",
       "    <tr>\n",
       "      <th>3</th>\n",
       "      <td>111</td>\n",
       "      <td>-842</td>\n",
       "      <td>730</td>\n",
       "      <td>-761</td>\n",
       "      <td>158</td>\n",
       "      <td>-963</td>\n",
       "      <td>-290</td>\n",
       "      <td>-669</td>\n",
       "      <td>191</td>\n",
       "      <td>130</td>\n",
       "      <td>170</td>\n",
       "      <td>-274</td>\n",
       "    </tr>\n",
       "    <tr>\n",
       "      <th>4</th>\n",
       "      <td>919</td>\n",
       "      <td>111</td>\n",
       "      <td>-688</td>\n",
       "      <td>15</td>\n",
       "      <td>395</td>\n",
       "      <td>9</td>\n",
       "      <td>553</td>\n",
       "      <td>297</td>\n",
       "      <td>-302</td>\n",
       "      <td>695</td>\n",
       "      <td>730</td>\n",
       "      <td>-731</td>\n",
       "    </tr>\n",
       "  </tbody>\n",
       "</table>\n",
       "</div>"
      ],
      "text/plain": [
       "  Enero  Febrero  Marzo  Abril  Mayo  Junio Julio  Agosto Septiembre Octubre  \\\n",
       "0  -760      343    265   -624  -390   -796   601    -780       -491     645   \n",
       "1   223      491   -397   -123     6   -115   157    -741       -951     267   \n",
       "2  -872     -913    558    278   544   -223   607    -113        348     576   \n",
       "3   111     -842    730   -761   158   -963  -290    -669        191     130   \n",
       "4   919      111   -688     15   395      9   553     297       -302     695   \n",
       "\n",
       "  Noviembre  Diciembre  \n",
       "0      -248        714  \n",
       "1        14       -596  \n",
       "2      -977        195  \n",
       "3       170       -274  \n",
       "4       730       -731  "
      ]
     },
     "execution_count": 1,
     "metadata": {},
     "output_type": "execute_result"
    }
   ],
   "source": [
    "import pandas as pd\n",
    "\n",
    "df = pd.read_csv(\"finanzas2020[1].csv\", sep=\"\\t\", skipinitialspace=True)\n",
    "df.head()"
   ]
  },
  {
   "cell_type": "markdown",
   "metadata": {},
   "source": [
    "### 2. Cleaning data"
   ]
  },
  {
   "cell_type": "code",
   "execution_count": 2,
   "metadata": {},
   "outputs": [
    {
     "data": {
      "text/plain": [
       "Enero         object\n",
       "Febrero        int64\n",
       "Marzo          int64\n",
       "Abril          int64\n",
       "Mayo           int64\n",
       "Junio          int64\n",
       "Julio         object\n",
       "Agosto         int64\n",
       "Septiembre    object\n",
       "Octubre       object\n",
       "Noviembre     object\n",
       "Diciembre      int64\n",
       "dtype: object"
      ]
     },
     "execution_count": 2,
     "metadata": {},
     "output_type": "execute_result"
    }
   ],
   "source": [
    "df.dtypes"
   ]
  },
  {
   "cell_type": "code",
   "execution_count": 3,
   "metadata": {},
   "outputs": [
    {
     "name": "stdout",
     "output_type": "stream",
     "text": [
      "1. All string will be replaced by 0\n",
      "2. Can only use .str accessor with string values! All string will be replaced by 0\n",
      "4. All negative numeric string values will be converted into INT\n"
     ]
    }
   ],
   "source": [
    "try:\n",
    "    print(\"1. All string will be replaced by 0\")\n",
    "    for column in df:\n",
    "        df[column] = df[column].str.replace('[^0-9]', '', regex=True).astype(int)\n",
    "except Exception as e:\n",
    "    print(\"2.\", e, \"All string will be replaced by 0\")\n",
    "    for column in df:\n",
    "        df[column] = df[column].replace(regex='([a-zA-Z])', value=int(0))\n",
    "else:\n",
    "    print(\"3. All missing values will be replaced by 0\")\n",
    "    df.fillna(int(0))\n",
    "finally:\n",
    "    print(\"4. All negative numeric string values will be converted into INT\")\n",
    "    for column in df:\n",
    "        df[column] = df[column].replace(\"'\",'', regex=True).astype(int)"
   ]
  },
  {
   "cell_type": "code",
   "execution_count": 4,
   "metadata": {},
   "outputs": [
    {
     "data": {
      "text/plain": [
       "Enero         int32\n",
       "Febrero       int32\n",
       "Marzo         int32\n",
       "Abril         int32\n",
       "Mayo          int32\n",
       "Junio         int32\n",
       "Julio         int32\n",
       "Agosto        int32\n",
       "Septiembre    int32\n",
       "Octubre       int32\n",
       "Noviembre     int32\n",
       "Diciembre     int32\n",
       "dtype: object"
      ]
     },
     "execution_count": 4,
     "metadata": {},
     "output_type": "execute_result"
    }
   ],
   "source": [
    "df.dtypes"
   ]
  },
  {
   "cell_type": "code",
   "execution_count": 5,
   "metadata": {},
   "outputs": [
    {
     "data": {
      "text/plain": [
       "Enero         47847\n",
       "Febrero          39\n",
       "Marzo         -7969\n",
       "Abril        -18933\n",
       "Mayo          10304\n",
       "Junio         -1477\n",
       "Julio          7698\n",
       "Agosto        -8735\n",
       "Septiembre   -10948\n",
       "Octubre        3412\n",
       "Noviembre      1157\n",
       "Diciembre     -3044\n",
       "dtype: int64"
      ]
     },
     "execution_count": 5,
     "metadata": {},
     "output_type": "execute_result"
    }
   ],
   "source": [
    "df.sum()"
   ]
  },
  {
   "cell_type": "markdown",
   "metadata": {},
   "source": [
    "### 3. Qué mes se ha gastado más? "
   ]
  },
  {
   "cell_type": "code",
   "execution_count": 6,
   "metadata": {},
   "outputs": [
    {
     "name": "stdout",
     "output_type": "stream",
     "text": [
      "Maximum ahorado -18933 fue en: Abril\n"
     ]
    }
   ],
   "source": [
    "df_min = df.sum()\n",
    "print(f\"Maximum ahorado {df_min.min()} fue en: {df_min.idxmin(axis=0)}\")"
   ]
  },
  {
   "cell_type": "markdown",
   "metadata": {},
   "source": [
    "### Qué mes se ha ahorrado más? "
   ]
  },
  {
   "cell_type": "code",
   "execution_count": 7,
   "metadata": {},
   "outputs": [
    {
     "name": "stdout",
     "output_type": "stream",
     "text": [
      "Maximum ahorado 47847 fue en: Enero\n"
     ]
    }
   ],
   "source": [
    "df_ahorrado = df.sum()\n",
    "print(f\"Maximum ahorado {df_ahorrado.max()} fue en: {df_ahorrado.idxmax(axis=0)}\")"
   ]
  },
  {
   "cell_type": "markdown",
   "metadata": {},
   "source": [
    "### 4. Cuál es la media de gastos al año?"
   ]
  },
  {
   "cell_type": "markdown",
   "metadata": {},
   "source": [
    " Aqui tenemos en cuenta solo los gastos (numeros negativos) evitando los numeros positivos"
   ]
  },
  {
   "cell_type": "code",
   "execution_count": 8,
   "metadata": {},
   "outputs": [
    {
     "name": "stdout",
     "output_type": "stream",
     "text": [
      "La medida de los gastos anuales es -23314.33\n"
     ]
    }
   ],
   "source": [
    "df_media = df[df<0].sum().mean()\n",
    "print(\"La medida de los gastos anuales es\", round(df_media, 2))"
   ]
  },
  {
   "cell_type": "markdown",
   "metadata": {},
   "source": [
    "### 5. Cuál ha sido el gasto total a lo largo del año?"
   ]
  },
  {
   "cell_type": "code",
   "execution_count": 9,
   "metadata": {},
   "outputs": [
    {
     "name": "stdout",
     "output_type": "stream",
     "text": [
      "Total de los gastos anuales es -279772.0\n"
     ]
    }
   ],
   "source": [
    "df_total = df[df<0].sum().sum()\n",
    "print(\"Total de los gastos anuales es\", round(df_total, 2))"
   ]
  },
  {
   "cell_type": "markdown",
   "metadata": {},
   "source": [
    "### 6. Cuáles han sido los ingresos totales a lo largo del año??"
   ]
  },
  {
   "cell_type": "code",
   "execution_count": 10,
   "metadata": {},
   "outputs": [
    {
     "name": "stdout",
     "output_type": "stream",
     "text": [
      "Total de los ingresos anuales es 299123.0\n"
     ]
    }
   ],
   "source": [
    "df_ing_total = df[df>0].sum().sum()\n",
    "print(\"Total de los ingresos anuales es\", round(df_ing_total, 2))"
   ]
  },
  {
   "cell_type": "markdown",
   "metadata": {},
   "source": [
    "### 7. Opcional: Realice una gráfica de la evolución de ingresos a lo largo del año?"
   ]
  },
  {
   "cell_type": "code",
   "execution_count": 25,
   "metadata": {},
   "outputs": [
    {
     "data": {
      "text/plain": [
       "<AxesSubplot: title={'center': 'La evolucion de ingresos a lo largo del año'}>"
      ]
     },
     "execution_count": 25,
     "metadata": {},
     "output_type": "execute_result"
    },
    {
     "data": {
      "image/png": "[encoded data removed]",
      "text/plain": [
       "<Figure size 640x480 with 1 Axes>"
      ]
     },
     "metadata": {},
     "output_type": "display_data"
    }
   ],
   "source": [
    "df.sum().plot(title=\"La evolucion de ingresos a lo largo del año\", kind=\"bar\", grid=True)"
   ]
  },
  {
   "cell_type": "code",
   "execution_count": null,
   "metadata": {},
   "outputs": [],
   "source": []
  }
 ],
 "metadata": {
  "kernelspec": {
   "display_name": "Python 3 (ipykernel)",
   "language": "python",
   "name": "python3"
  },
  "language_info": {
   "codemirror_mode": {
    "name": "ipython",
    "version": 3
   },
   "file_extension": ".py",
   "mimetype": "text/x-python",
   "name": "python",
   "nbconvert_exporter": "python",
   "pygments_lexer": "ipython3",
   "version": "3.9.13"
  },
  "toc": {
   "base_numbering": 1,
   "nav_menu": {},
   "number_sections": true,
   "sideBar": true,
   "skip_h1_title": false,
   "title_cell": "Table of Contents",
   "title_sidebar": "Contents",
   "toc_cell": false,
   "toc_position": {},
   "toc_section_display": true,
   "toc_window_display": false
  },
  "vscode": {
   "interpreter": {
    "hash": "ba4c651cdc5ec17c511bce19f294202fdc45305f9de1f927c569f32faa173ead"
   }
  }
 },
 "nbformat": 4,
 "nbformat_minor": 2
}
